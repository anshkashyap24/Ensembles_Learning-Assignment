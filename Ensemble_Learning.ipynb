{
  "nbformat": 4,
  "nbformat_minor": 0,
  "metadata": {
    "colab": {
      "provenance": []
    },
    "kernelspec": {
      "name": "python3",
      "display_name": "Python 3"
    },
    "language_info": {
      "name": "python"
    }
  },
  "cells": [
    {
      "cell_type": "markdown",
      "source": [
        "1.  Can we use Bagging for regression problems ?\n",
        " - Yes, Bagging (Bootstrap Aggregating) can definitely be used for regression problems.\n",
        "\n",
        "2. What is the difference between multiple model training and single model training ?\n",
        " - Single model training refers to the process of training one machine learning model on the entire training dataset to learn patterns and make predictions.\n",
        " The model is trained using a single algorithm (e.g., Decision Tree, Linear Regression, SVM), and its performance depends solely on how well this one model generalizes to unseen data.\n",
        "\n",
        " - Multiple model training, also known as ensemble learning, refers to the process of training multiple models—either of the same type (homogeneous) or different types (heterogeneous)—and combining their predictions to improve accuracy, robustness, and generalization.\n",
        "Common techniques include Bagging, Boosting, and Stacking, where the final prediction is made by averaging, voting, or using a meta-model.\n",
        "\n",
        "3. Explain the concept of feature randomness in Random Forest.\n",
        " - Feature randomness means that at each split in a tree, only a random subset of features is considered. This increases diversity among trees in the forest, reduces correlation between them, and improves overall model performance.\n",
        "\n",
        "4. What is OOB (Out-of-Bag) Score?\n",
        " - OOB score is an internal validation method in Bagging and Random Forest. Since each tree is trained on a bootstrap sample, about one-third of the data is left out. These \"out-of-bag\" samples are used to estimate the model’s accuracy without needing a separate validation set.\n",
        "\n",
        "5. How can you measure the importance of features in a Random Forest model?\n",
        " - Feature importance is measured by how much a feature decreases impurity (e.g., Gini or MSE) across all trees. Features contributing more to splitting nodes and reducing error are considered more important.\n",
        "\n",
        "6. Explain the working principle of a Bagging Classifier.\n",
        " - Bagging Classifier trains multiple base classifiers on different random subsets (with replacement) of the data. Final prediction is made by majority voting (classification) or averaging (regression). It reduces overfitting by combining diverse models.\n",
        "\n",
        "7. How do you evaluate a Bagging Classifier’s performance?\n",
        " - Performance is evaluated using metrics like accuracy, precision, recall, F1-score, and AUC, depending on the problem. OOB score or cross-validation can also be used to assess generalization.\n",
        "\n",
        "8. How does a Bagging Regressor work?\n",
        " - Bagging Regressor trains multiple base regressors (like Decision Trees) on bootstrapped subsets. The final prediction is the average of predictions from all models. This ensemble approach reduces variance and improves robustness.\n",
        "\n",
        "9. What is the main advantage of ensemble techniques?\n",
        " - The main advantage is improved accuracy and robustness. Ensemble methods combine multiple models to reduce overfitting, handle noise, and generalize better to unseen data.\n",
        "\n",
        "10. What is the main challenge of ensemble methods?\n",
        " - The main challenges include increased complexity, longer training time, and reduced interpretability. Managing and tuning multiple models is computationally more expensive.\n",
        "\n",
        "11. Explain the key idea behind ensemble techniques.\n",
        " - The key idea is to combine multiple weak learners (models that perform slightly better than random) to form a strong learner with high predictive power. Aggregation reduces errors like bias and variance.\n",
        "\n",
        "12. What is a Random Forest Classifier?\n",
        " - It is an ensemble classifier that builds multiple decision trees using bagging and feature randomness. Final prediction is made using majority voting. It reduces overfitting and increases prediction accuracy.\n",
        "\n",
        "13. What are the main types of ensemble techniques?\n",
        " - Bagging - Random Forest\n",
        "\n",
        " - Boosting -  AdaBoost, XGBoost\n",
        "\n",
        " - Stacking - Combines predictions using a meta-learner\n",
        "\n",
        "14. What is ensemble learning in machine learning?\n",
        " - Ensemble learning is a technique where multiple models are combined to solve a problem. The goal is to produce a stronger and more accurate model than any individual one.\n",
        "\n",
        "15. When should we avoid using ensemble methods?\n",
        " - Avoid when:\n",
        "\n",
        "    The base model already performs well.\n",
        "\n",
        "    You need high interpretability.\n",
        "\n",
        "    Resources are limited (ensembles are computationally heavy).\n",
        "\n",
        "    The dataset is small, and ensemble may overfit.\n",
        "\n",
        "16. How does Bagging help in reducing overfitting?\n",
        " - Bagging reduces overfitting by training models on different subsets of data and combining their predictions. This smooths out model errors and reduces variance.\n",
        "\n",
        "17. Why is Random Forest better than a single Decision Tree?\n",
        " - Random Forest reduces overfitting, improves accuracy, and handles noise better by averaging multiple trees trained with different data and features. A single decision tree is more prone to overfitting.\n",
        "\n",
        "18. What is the role of bootstrap sampling in Bagging?\n",
        " - Bootstrap sampling creates random datasets with replacement from the original dataset. Each model in the ensemble is trained on a different sample, which increases diversity and reduces variance.\n",
        "\n",
        "19.  What are some real-world applications of ensemble techniques ?\n",
        " - Credit scoring\n",
        " - Fraud detection\n",
        " - Medical diagnosis\n",
        " - Spam filtering\n",
        " - Recommendation systems\n",
        " - Stock market prediction\n",
        "\n",
        "20.\n",
        " - Bagging is an ensemble learning technique that trains multiple models independently on different random subsets of the training data (with replacement) and then combines their predictions by voting (classification) or averaging (regression)\n",
        "Its main goal is to reduce variance and improve model stability.\n",
        " - Boosting is an ensemble technique that builds models sequentially, where each new model is trained to correct the errors made by the previous ones.\n",
        "The final prediction is made by combining the outputs of all models, usually using weighted voting or averaging.\n",
        "Boosting mainly aims to reduce bias and improve accuracy."
      ],
      "metadata": {
        "id": "edBX3HY4TuZY"
      }
    },
    {
      "cell_type": "code",
      "source": [
        "# 1. Train a Bagging Classifier using Decision Trees on a sample dataset and print model accuracy\n",
        "from sklearn.ensemble import BaggingClassifier\n",
        "from sklearn.tree import DecisionTreeClassifier\n",
        "from sklearn.datasets import make_classification\n",
        "from sklearn.model_selection import train_test_split\n",
        "from sklearn.metrics import accuracy_score\n",
        "\n",
        "X, y = make_classification(n_samples=1000, n_features=20, random_state=42)\n",
        "X_train, X_test, y_train, y_test = train_test_split(X, y, test_size=0.3, random_state=42)\n",
        "\n",
        "bag_model = BaggingClassifier(estimator=DecisionTreeClassifier(), n_estimators=50, random_state=42)\n",
        "bag_model.fit(X_train, y_train)\n",
        "y_pred = bag_model.predict(X_test)\n",
        "print(\"Bagging Classifier Accuracy:\", accuracy_score(y_test, y_pred))"
      ],
      "metadata": {
        "colab": {
          "base_uri": "https://localhost:8080/"
        },
        "id": "LYExWe5mWyKq",
        "outputId": "f6e6a683-ed60-4eff-fb22-cfc9931ce9e0"
      },
      "execution_count": 3,
      "outputs": [
        {
          "output_type": "stream",
          "name": "stdout",
          "text": [
            "Bagging Classifier Accuracy: 0.87\n"
          ]
        }
      ]
    },
    {
      "cell_type": "code",
      "source": [
        "# Train a Bagging Regressor using Decision Trees and evaluate using Mean Squared Error (MSE)\n",
        "\n",
        ""
      ],
      "metadata": {
        "colab": {
          "base_uri": "https://localhost:8080/"
        },
        "id": "1QfF840yYixm",
        "outputId": "f22a7f15-48d3-4535-8842-6a5b5d66e177"
      },
      "execution_count": 5,
      "outputs": [
        {
          "output_type": "stream",
          "name": "stdout",
          "text": [
            "Bagging Regressor MSE: 9168.544481446783\n"
          ]
        }
      ]
    },
    {
      "cell_type": "code",
      "source": [
        " # Train a Random Forest Classifier on the Breast Cancer dataset and print feature importance scores\n",
        "from sklearn.ensemble import RandomForestClassifier\n",
        "from sklearn.datasets import load_breast_cancer\n",
        "import pandas as pd\n",
        "\n",
        "data = load_breast_cancer()\n",
        "X, y = data.data, data.target\n",
        "feature_names = data.feature_names\n",
        "\n",
        "rf_model = RandomForestClassifier(n_estimators=100, random_state=42)\n",
        "rf_model.fit(X, y)\n",
        "importances = rf_model.feature_importances_\n",
        "importance_df = pd.DataFrame({'Feature': feature_names, 'Importance': importances})\n",
        "print(importance_df.sort_values(by='Importance', ascending=False).head(10))"
      ],
      "metadata": {
        "colab": {
          "base_uri": "https://localhost:8080/"
        },
        "id": "8EtQo0NWaUno",
        "outputId": "e3f111da-b5e6-422d-baf7-67690258347e"
      },
      "execution_count": 6,
      "outputs": [
        {
          "output_type": "stream",
          "name": "stdout",
          "text": [
            "                 Feature  Importance\n",
            "23            worst area    0.139357\n",
            "27  worst concave points    0.132225\n",
            "7    mean concave points    0.107046\n",
            "20          worst radius    0.082848\n",
            "22       worst perimeter    0.080850\n",
            "2         mean perimeter    0.067990\n",
            "6         mean concavity    0.066917\n",
            "3              mean area    0.060462\n",
            "26       worst concavity    0.037339\n",
            "0            mean radius    0.034843\n"
          ]
        }
      ]
    },
    {
      "cell_type": "code",
      "source": [
        "# Train a Random Forest Regressor and compare its performance with a single Decision Tree\n",
        "from sklearn.ensemble import RandomForestRegressor\n",
        "from sklearn.tree import DecisionTreeRegressor\n",
        "\n",
        "X, y = make_regression(n_samples=1000, n_features=10, noise=15, random_state=42)\n",
        "X_train, X_test, y_train, y_test = train_test_split(X, y, test_size=0.3, random_state=42)\n",
        "\n",
        "# Random Forest Regressor\n",
        "rf = RandomForestRegressor(n_estimators=100, random_state=42)\n",
        "rf.fit(X_train, y_train)\n",
        "rf_pred = rf.predict(X_test)\n",
        "print(\"Random Forest MSE:\", mean_squared_error(y_test, rf_pred))\n",
        "\n",
        "# Single Decision Tree\n",
        "tree = DecisionTreeRegressor()\n",
        "tree.fit(X_train, y_train)\n",
        "tree_pred = tree.predict(X_test)\n",
        "print(\"Decision Tree MSE:\", mean_squared_error(y_test, tree_pred))"
      ],
      "metadata": {
        "colab": {
          "base_uri": "https://localhost:8080/"
        },
        "id": "isdQoHYPafqH",
        "outputId": "7ee6342a-7278-4fd1-8244-288e5569f90b"
      },
      "execution_count": 7,
      "outputs": [
        {
          "output_type": "stream",
          "name": "stdout",
          "text": [
            "Random Forest MSE: 2883.274253249711\n",
            "Decision Tree MSE: 6902.133005195953\n"
          ]
        }
      ]
    },
    {
      "cell_type": "code",
      "source": [
        "# Compute the Out-of-Bag (OOB) Score for a Random Forest Classifier\n"
      ],
      "metadata": {
        "colab": {
          "base_uri": "https://localhost:8080/"
        },
        "id": "w4Iv7Y0yavN3",
        "outputId": "704201a3-f87a-4e4a-f84e-cdab5489f2a4"
      },
      "execution_count": 9,
      "outputs": [
        {
          "output_type": "stream",
          "name": "stdout",
          "text": [
            "OOB Score: 0.895\n"
          ]
        }
      ]
    },
    {
      "cell_type": "code",
      "source": [
        "# Train a Bagging Classifier using SVM as a base estimator and print accuracy\n",
        "from sklearn.svm import SVC\n",
        "from sklearn.datasets import make_classification\n",
        "from sklearn.model_selection import train_test_split\n",
        "\n",
        "X, y = make_classification(n_samples=1000, n_features=20, random_state=42)\n",
        "X_train, X_test, y_train, y_test = train_test_split(X, y, test_size=0.3, random_state=42)\n",
        "\n",
        "bag_svm = BaggingClassifier(estimator=SVC(), n_estimators=10, random_state=42)\n",
        "bag_svm.fit(X_train, y_train)\n",
        "print(\"Bagging Classifier with SVM Accuracy:\", bag_svm.score(X_test, y_test))"
      ],
      "metadata": {
        "colab": {
          "base_uri": "https://localhost:8080/"
        },
        "id": "bca_F6E0a3kP",
        "outputId": "cc8a50f1-806d-4ac7-baaa-4148a33b987c"
      },
      "execution_count": 12,
      "outputs": [
        {
          "output_type": "stream",
          "name": "stdout",
          "text": [
            "Bagging Classifier with SVM Accuracy: 0.8433333333333334\n"
          ]
        }
      ]
    },
    {
      "cell_type": "code",
      "source": [
        "# Train a Random Forest Classifier with different numbers of trees and compare accuracy"
      ],
      "metadata": {
        "colab": {
          "base_uri": "https://localhost:8080/"
        },
        "id": "NcjaAnYUbj44",
        "outputId": "f02c27b0-7451-4578-ca3d-8d4b1725914c"
      },
      "execution_count": 14,
      "outputs": [
        {
          "output_type": "stream",
          "name": "stdout",
          "text": [
            "Accuracy with 10 trees: 0.8333333333333334\n",
            "Accuracy with 50 trees: 0.85\n",
            "Accuracy with 100 trees: 0.8566666666666667\n",
            "Accuracy with 200 trees: 0.86\n"
          ]
        }
      ]
    },
    {
      "cell_type": "code",
      "source": [
        "#Train a Bagging Classifier using Logistic Regression as a base estimator and print AUC score\n",
        "from sklearn.linear_model import LogisticRegression\n",
        "from sklearn.metrics import roc_auc_score\n",
        "\n",
        "bag_lr = BaggingClassifier(estimator=LogisticRegression(max_iter=1000), n_estimators=10, random_state=42)\n",
        "bag_lr.fit(X_train, y_train)\n",
        "probs = bag_lr.predict_proba(X_test)[:, 1]\n",
        "print(\"AUC Score:\", roc_auc_score(y_test, probs))"
      ],
      "metadata": {
        "colab": {
          "base_uri": "https://localhost:8080/"
        },
        "id": "Nb7mFqg3cqro",
        "outputId": "9c437ea8-1632-48b2-c6b6-4747ddc5bc67"
      },
      "execution_count": 16,
      "outputs": [
        {
          "output_type": "stream",
          "name": "stdout",
          "text": [
            "AUC Score: 0.9136818687430479\n"
          ]
        }
      ]
    },
    {
      "cell_type": "code",
      "source": [
        "#Train a Random Forest Regressor and analyze feature importance scores\n",
        "rf_reg = RandomForestRegressor(n_estimators=100, random_state=42)\n",
        "rf_reg.fit(X_train, y_train)\n",
        "print(\"Top 5 Feature Importances:\", rf_reg.feature_importances_[:5])"
      ],
      "metadata": {
        "colab": {
          "base_uri": "https://localhost:8080/"
        },
        "id": "HxB75gHfdOEL",
        "outputId": "1be43494-6b96-4425-cc3e-584035e91e49"
      },
      "execution_count": 17,
      "outputs": [
        {
          "output_type": "stream",
          "name": "stdout",
          "text": [
            "Top 5 Feature Importances: [0.00953961 0.00961989 0.01203543 0.00909707 0.0069463 ]\n"
          ]
        }
      ]
    },
    {
      "cell_type": "code",
      "source": [
        "#Train an ensemble model using both Bagging and Random Forest and compare accuracy\n",
        "# Step 1: Import Required Libraries\n",
        "import numpy as np\n",
        "import pandas as pd\n",
        "from sklearn.datasets import load_breast_cancer\n",
        "from sklearn.model_selection import train_test_split\n",
        "from sklearn.ensemble import BaggingClassifier, RandomForestClassifier\n",
        "from sklearn.tree import DecisionTreeClassifier\n",
        "from sklearn.metrics import accuracy_score, classification_report\n",
        "\n",
        "# Step 2: Load Dataset\n",
        "data = load_breast_cancer()\n",
        "X = pd.DataFrame(data.data, columns=data.feature_names)\n",
        "y = pd.Series(data.target)\n",
        "\n",
        "# Step 3: Train-Test Split\n",
        "X_train, X_test, y_train, y_test = train_test_split(X, y, test_size=0.2, random_state=42)\n",
        "\n",
        "# Step 4: Initialize Models\n",
        "# Bagging with Decision Trees as base estimator\n",
        "bagging_model = BaggingClassifier(estimator=DecisionTreeClassifier(),\n",
        "                                  n_estimators=100, random_state=42)\n",
        "\n",
        "# Random Forest Classifier\n",
        "rf_model = RandomForestClassifier(n_estimators=100, random_state=42)\n",
        "\n",
        "# Step 5: Train Models\n",
        "bagging_model.fit(X_train, y_train)\n",
        "rf_model.fit(X_train, y_train)\n",
        "\n",
        "# Step 6: Predict\n",
        "y_pred_bagging = bagging_model.predict(X_test)\n",
        "y_pred_rf = rf_model.predict(X_test)\n",
        "\n",
        "# Step 7: Accuracy Comparison\n",
        "acc_bagging = accuracy_score(y_test, y_pred_bagging)\n",
        "acc_rf = accuracy_score(y_test, y_pred_rf)\n",
        "\n",
        "print(\"🔵 Bagging Classifier Accuracy:\", round(acc_bagging * 100, 2), \"%\")\n",
        "print(\"🟢 Random Forest Accuracy:\", round(acc_rf * 100, 2), \"%\")\n",
        "\n",
        "# Optional: Show Detailed Report\n",
        "print(\"\\n📋 Classification Report (Bagging):\\n\", classification_report(y_test, y_pred_bagging))\n",
        "print(\"📋 Classification Report (Random Forest):\\n\", classification_report(y_test, y_pred_rf))\n"
      ],
      "metadata": {
        "colab": {
          "base_uri": "https://localhost:8080/"
        },
        "id": "NoLXhR8VdOGx",
        "outputId": "dc787d28-8a9a-4c56-bfbc-4a6c5726e78d"
      },
      "execution_count": 27,
      "outputs": [
        {
          "output_type": "stream",
          "name": "stdout",
          "text": [
            "🔵 Bagging Classifier Accuracy: 95.61 %\n",
            "🟢 Random Forest Accuracy: 96.49 %\n",
            "\n",
            "📋 Classification Report (Bagging):\n",
            "               precision    recall  f1-score   support\n",
            "\n",
            "           0       0.95      0.93      0.94        43\n",
            "           1       0.96      0.97      0.97        71\n",
            "\n",
            "    accuracy                           0.96       114\n",
            "   macro avg       0.96      0.95      0.95       114\n",
            "weighted avg       0.96      0.96      0.96       114\n",
            "\n",
            "📋 Classification Report (Random Forest):\n",
            "               precision    recall  f1-score   support\n",
            "\n",
            "           0       0.98      0.93      0.95        43\n",
            "           1       0.96      0.99      0.97        71\n",
            "\n",
            "    accuracy                           0.96       114\n",
            "   macro avg       0.97      0.96      0.96       114\n",
            "weighted avg       0.97      0.96      0.96       114\n",
            "\n"
          ]
        }
      ]
    },
    {
      "cell_type": "code",
      "source": [
        "#Train a Random Forest Classifier and tune hyperparameters using GridSearchCV\n",
        "from sklearn.model_selection import GridSearchCV\n",
        "\n",
        "X, y = make_classification(n_samples=1000, n_features=20, random_state=42)\n",
        "X_train, X_test, y_train, y_test = train_test_split(X, y, test_size=0.3, random_state=42)\n",
        "\n",
        "param_grid = {\n",
        "    'n_estimators': [50, 100, 200],\n",
        "    'max_depth': [None, 10, 20],\n",
        "    'min_samples_leaf': [1, 2, 4]\n",
        "}\n",
        "\n",
        "rf = RandomForestClassifier(random_state=42)\n",
        "grid_search = GridSearchCV(estimator=rf, param_grid=param_grid, cv=3, n_jobs=-1, verbose=2)\n",
        "grid_search.fit(X_train, y_train)\n",
        "\n",
        "print(\"Best parameters found: \", grid_search.best_params_)\n",
        "print(\"Best accuracy found: \", grid_search.best_score_)"
      ],
      "metadata": {
        "colab": {
          "base_uri": "https://localhost:8080/"
        },
        "id": "o1XZ3zPedOJp",
        "outputId": "29e76718-2d63-45c4-d4be-4165a9e0d2b9"
      },
      "execution_count": 19,
      "outputs": [
        {
          "output_type": "stream",
          "name": "stdout",
          "text": [
            "Fitting 3 folds for each of 27 candidates, totalling 81 fits\n",
            "Best parameters found:  {'max_depth': 10, 'min_samples_leaf': 2, 'n_estimators': 100}\n",
            "Best accuracy found:  0.8956934815303915\n"
          ]
        }
      ]
    },
    {
      "cell_type": "code",
      "source": [
        "#Train a Bagging Regressor with different numbers of base estimators and compare performance\n"
      ],
      "metadata": {
        "colab": {
          "base_uri": "https://localhost:8080/"
        },
        "id": "p-tZehczdOMb",
        "outputId": "9b2f8ed6-a579-47e3-d40d-f0a20942f6ef"
      },
      "execution_count": 20,
      "outputs": [
        {
          "output_type": "stream",
          "name": "stdout",
          "text": [
            "MSE with 10 estimators: 10581.27268546868\n",
            "MSE with 50 estimators: 9168.544481446783\n",
            "MSE with 100 estimators: 9284.412597442823\n",
            "MSE with 200 estimators: 9025.66748772832\n"
          ]
        }
      ]
    },
    {
      "cell_type": "code",
      "source": [
        "#Train a Random Forest Classifier and analyze misclassified samples\n",
        "import numpy as np\n",
        "\n",
        "X, y = make_classification(n_samples=1000, n_features=20, random_state=42)\n",
        "X_train, X_test, y_train, y_test = train_test_split(X, y, test_size=0.3, random_state=42)\n",
        "\n",
        "rf = RandomForestClassifier(n_estimators=100, random_state=42)\n",
        "rf.fit(X_train, y_train)\n",
        "y_pred = rf.predict(X_test)\n",
        "\n",
        "misclassified_indices = np.where(y_test != y_pred)[0]\n",
        "print(\"Indices of misclassified samples:\", misclassified_indices)\n",
        "print(\"Number of misclassified samples:\", len(misclassified_indices))"
      ],
      "metadata": {
        "colab": {
          "base_uri": "https://localhost:8080/"
        },
        "id": "vtty1Fb-dOPS",
        "outputId": "267e5d19-cc79-476a-da49-dc2bed4b9d27"
      },
      "execution_count": 22,
      "outputs": [
        {
          "output_type": "stream",
          "name": "stdout",
          "text": [
            "Indices of misclassified samples: [  2   8  14  19  27  30  43  45  57  59  94  99 107 112 113 127 128 159\n",
            " 162 163 171 173 184 216 217 220 230 231 234 235 245 246 247 253 264 266\n",
            " 269 275 277 292 295 297 299]\n",
            "Number of misclassified samples: 43\n"
          ]
        }
      ]
    },
    {
      "cell_type": "code",
      "source": [
        "#Train a Bagging Classifier and compare its performance with a single Decision Tree Classifier\n",
        "from sklearn.ensemble import BaggingClassifier\n",
        "from sklearn.tree import DecisionTreeClassifier\n",
        "from sklearn.datasets import make_classification\n",
        "from sklearn.model_selection import train_test_split\n",
        "from sklearn.metrics import accuracy_score\n",
        "\n",
        "X, y = make_classification(n_samples=1000, n_features=20, random_state=42)\n",
        "X_train, X_test, y_train, y_test = train_test_split(X, y, test_size=0.3, random_state=42)\n",
        "\n",
        "# Bagging Classifier\n",
        "bag_clf = BaggingClassifier(estimator=DecisionTreeClassifier(), n_estimators=50, random_state=42)\n",
        "bag_clf.fit(X_train, y_train)\n",
        "bag_pred = bag_clf.predict(X_test)\n",
        "print(\"Bagging Classifier Accuracy:\", accuracy_score(y_test, bag_pred))\n",
        "\n",
        "# Single Decision Tree Classifier\n",
        "tree_clf = DecisionTreeClassifier(random_state=42)\n",
        "tree_clf.fit(X_train, y_train)\n",
        "tree_pred = tree_clf.predict(X_test)\n",
        "print(\"Decision Tree Classifier Accuracy:\", accuracy_score(y_test, tree_pred))"
      ],
      "metadata": {
        "colab": {
          "base_uri": "https://localhost:8080/"
        },
        "id": "AtuCbD7DdOSC",
        "outputId": "12f7fa4b-aa71-4235-80f5-1c5f5ade2ca6"
      },
      "execution_count": 23,
      "outputs": [
        {
          "output_type": "stream",
          "name": "stdout",
          "text": [
            "Bagging Classifier Accuracy: 0.87\n",
            "Decision Tree Classifier Accuracy: 0.8566666666666667\n"
          ]
        }
      ]
    },
    {
      "cell_type": "code",
      "source": [
        "#Train a Random Forest Classifier and visualize the confusion matrix\n",
        "from sklearn.ensemble import RandomForestClassifier\n",
        "from sklearn.datasets import make_classification\n",
        "from sklearn.model_selection import train_test_split\n",
        "from sklearn.metrics import confusion_matrix\n",
        "import seaborn as sns\n",
        "import matplotlib.pyplot as plt\n",
        "\n",
        "X, y = make_classification(n_samples=1000, n_features=20, random_state=42)\n",
        "X_train, X_test, y_train, y_test = train_test_split(X, y, test_size=0.3, random_state=42)\n",
        "\n",
        "rf = RandomForestClassifier(n_estimators=100, random_state=42)\n",
        "rf.fit(X_train, y_train)\n",
        "y_pred = rf.predict(X_test)\n",
        "\n",
        "cm = confusion_matrix(y_test, y_pred)\n",
        "sns.heatmap(cm, annot=True, fmt='d')\n",
        "plt.xlabel('Predicted')\n",
        "plt.ylabel('True')\n",
        "plt.title('Confusion Matrix')\n",
        "plt.show()"
      ],
      "metadata": {
        "colab": {
          "base_uri": "https://localhost:8080/",
          "height": 472
        },
        "id": "jlFN8jWDdOUy",
        "outputId": "da2a1853-e454-482b-e811-a2dfa1e4a42a"
      },
      "execution_count": 24,
      "outputs": [
        {
          "output_type": "display_data",
          "data": {
            "text/plain": [
              "<Figure size 640x480 with 2 Axes>"
            ],
            "image/png": "[encoded data removed]"
          },
          "metadata": {}
        }
      ]
    },
    {
      "cell_type": "code",
      "source": [
        "#Train a Stacking Classifier using Decision Trees, SVM, and Logistic Regression, and compare accuracy"
      ],
      "metadata": {
        "colab": {
          "base_uri": "https://localhost:8080/"
        },
        "id": "bP5W7AzpdOXi",
        "outputId": "036d6bac-2de5-44fe-c913-4471677aa866"
      },
      "execution_count": 28,
      "outputs": [
        {
          "output_type": "stream",
          "name": "stdout",
          "text": [
            "Stacking Classifier Accuracy: 0.8533333333333334\n"
          ]
        }
      ]
    },
    {
      "cell_type": "code",
      "source": [
        "#Train a Random Forest Classifier and print the top 5 most important features\n",
        "from sklearn.ensemble import RandomForestClassifier\n",
        "from sklearn.datasets import load_breast_cancer\n",
        "import pandas as pd\n",
        "\n",
        "data = load_breast_cancer()\n",
        "X, y = data.data, data.target\n",
        "feature_names = data.feature_names\n",
        "\n",
        "rf = RandomForestClassifier(n_estimators=100, random_state=42)\n",
        "rf.fit(X, y)\n",
        "importances = rf.feature_importances_\n",
        "top_indices = importances.argsort()[::-1][:5]\n",
        "\n",
        "print(\"Top 5 most important features:\")\n",
        "for i in top_indices:\n",
        "    print(f\"{feature_names[i]}: {importances[i]:.4f}\")"
      ],
      "metadata": {
        "colab": {
          "base_uri": "https://localhost:8080/"
        },
        "id": "9PHFzkh_dOak",
        "outputId": "32cb9ab0-0b3e-4a44-d44b-2792b9946af5"
      },
      "execution_count": 29,
      "outputs": [
        {
          "output_type": "stream",
          "name": "stdout",
          "text": [
            "mean compactness: 0.3229\n",
            "symmetry error: 0.2071\n",
            "mean texture: 0.0957\n",
            "smoothness error: 0.0823\n",
            "texture error: 0.0292\n"
          ]
        }
      ]
    },
    {
      "cell_type": "code",
      "source": [
        "#Train a Bagging Classifier and evaluate performance using Precision, Recall, and F1-score\n",
        "from sklearn.metrics import classification_report\n",
        "\n",
        "bag = BaggingClassifier(estimator=DecisionTreeClassifier(), n_estimators=50, random_state=42)\n",
        "bag.fit(X_train, y_train)\n",
        "y_pred = bag.predict(X_test)\n",
        "print(classification_report(y_test, y_pred))"
      ],
      "metadata": {
        "colab": {
          "base_uri": "https://localhost:8080/"
        },
        "id": "NNm8gHpodpl6",
        "outputId": "d72a3d13-21b8-4024-b7f5-70b28db44a44"
      },
      "execution_count": 31,
      "outputs": [
        {
          "output_type": "stream",
          "name": "stdout",
          "text": [
            "              precision    recall  f1-score   support\n",
            "\n",
            "           0       0.85      0.88      0.87       145\n",
            "           1       0.89      0.86      0.87       155\n",
            "\n",
            "    accuracy                           0.87       300\n",
            "   macro avg       0.87      0.87      0.87       300\n",
            "weighted avg       0.87      0.87      0.87       300\n",
            "\n"
          ]
        }
      ]
    },
    {
      "cell_type": "code",
      "source": [
        "#Train a Random Forest Classifier and analyze the effect of max_depth on accuracy\n",
        "for depth in [5, 10, 20, None]:\n",
        "    rf = RandomForestClassifier(max_depth=depth, random_state=42)\n",
        "    rf.fit(X_train, y_train)\n",
        "    print(f\"max_depth={depth}, Accuracy={rf.score(X_test, y_test)}\")"
      ],
      "metadata": {
        "colab": {
          "base_uri": "https://localhost:8080/"
        },
        "id": "uBsDGub6dpuK",
        "outputId": "85f60671-d250-4a20-b483-788fa9cbe60a"
      },
      "execution_count": 32,
      "outputs": [
        {
          "output_type": "stream",
          "name": "stdout",
          "text": [
            "max_depth=5, Accuracy=0.85\n",
            "max_depth=10, Accuracy=0.8633333333333333\n",
            "max_depth=20, Accuracy=0.8566666666666667\n",
            "max_depth=None, Accuracy=0.8566666666666667\n"
          ]
        }
      ]
    },
    {
      "cell_type": "code",
      "source": [
        "#Train a Bagging Regressor using different base estimators (DecisionTree and KNeighbors) and compare\n",
        "#performance\n",
        "from sklearn.neighbors import KNeighborsRegressor\n",
        "\n",
        "for base in [DecisionTreeRegressor(), KNeighborsRegressor()]:\n",
        "    model = BaggingRegressor(estimator=base, n_estimators=10, random_state=42)\n",
        "    model.fit(X_train, y_train)\n",
        "    print(f\"{type(base).__name__}: MSE = {mean_squared_error(y_test, model.predict(X_test))}\")"
      ],
      "metadata": {
        "colab": {
          "base_uri": "https://localhost:8080/"
        },
        "id": "yXgEHRpAdp2j",
        "outputId": "980c6f9b-4d8f-4471-de21-02694113bbf2"
      },
      "execution_count": 34,
      "outputs": [
        {
          "output_type": "stream",
          "name": "stdout",
          "text": [
            "DecisionTreeRegressor: MSE = 0.10300000000000001\n",
            "KNeighborsRegressor: MSE = 0.13680533333333333\n"
          ]
        }
      ]
    },
    {
      "cell_type": "code",
      "source": [
        "#Train a Random Forest Classifier and evaluate its performance using ROC-AUC Score\n",
        "from sklearn.metrics import roc_auc_score\n",
        "\n",
        "rf = RandomForestClassifier(n_estimators=100, random_state=42)\n",
        "rf.fit(X_train, y_train)\n",
        "y_proba = rf.predict_proba(X_test)[:, 1]\n",
        "print(\"ROC-AUC Score:\", roc_auc_score(y_test, y_proba))"
      ],
      "metadata": {
        "colab": {
          "base_uri": "https://localhost:8080/"
        },
        "id": "fnKzVGgbdp-i",
        "outputId": "3efdaf0a-97c6-4d8f-a32f-315d1f3c71ac"
      },
      "execution_count": 35,
      "outputs": [
        {
          "output_type": "stream",
          "name": "stdout",
          "text": [
            "ROC-AUC Score: 0.9244493882091211\n"
          ]
        }
      ]
    },
    {
      "cell_type": "code",
      "source": [
        " #Train a Bagging Classifier and evaluate its performance using cross-validatio.\n",
        " from sklearn.model_selection import cross_val_score\n",
        "\n",
        "bag = BaggingClassifier(estimator=DecisionTreeClassifier(), n_estimators=50, random_state=42)\n",
        "scores = cross_val_score(bag, X, y, cv=5)\n",
        "print(\"Cross-validation scores:\", scores)\n",
        "print(\"Average CV Score:\", scores.mean())"
      ],
      "metadata": {
        "colab": {
          "base_uri": "https://localhost:8080/"
        },
        "id": "vSUOb7txdqHq",
        "outputId": "e1c762a8-4c83-468e-f307-06e797f26715"
      },
      "execution_count": 37,
      "outputs": [
        {
          "output_type": "stream",
          "name": "stdout",
          "text": [
            "Cross-validation scores: [0.94  0.905 0.9   0.92  0.885]\n",
            "Average CV Score: 0.9099999999999999\n"
          ]
        }
      ]
    },
    {
      "cell_type": "code",
      "source": [
        " #Train a Random Forest Classifier and plot the Precision-Recall curv\u0010\n",
        " from sklearn.metrics import precision_recall_curve, PrecisionRecallDisplay\n",
        "\n",
        "y_proba = rf.predict_proba(X_test)[:, 1]\n",
        "precision, recall, _ = precision_recall_curve(y_test, y_proba)\n",
        "disp = PrecisionRecallDisplay(precision=precision, recall=recall)\n",
        "disp.plot()"
      ],
      "metadata": {
        "colab": {
          "base_uri": "https://localhost:8080/",
          "height": 468
        },
        "id": "GPkEqGmSdr26",
        "outputId": "44d4510c-4522-4c98-c406-dfbbc5048f3a"
      },
      "execution_count": 38,
      "outputs": [
        {
          "output_type": "execute_result",
          "data": {
            "text/plain": [
              "<sklearn.metrics._plot.precision_recall_curve.PrecisionRecallDisplay at 0x7a9d104391d0>"
            ]
          },
          "metadata": {},
          "execution_count": 38
        },
        {
          "output_type": "display_data",
          "data": {
            "text/plain": [
              "<Figure size 640x480 with 1 Axes>"
            ],
            "image/png": "[encoded data removed]"
          },
          "metadata": {}
        }
      ]
    },
    {
      "cell_type": "code",
      "source": [
        "#Train a Stacking Classifier with Random Forest and Logistic Regression and compare accuracy\n",
        "stack = StackingClassifier(estimators=[\n",
        "    ('rf', RandomForestClassifier(n_estimators=100, random_state=42)),\n",
        "    ('lr', LogisticRegression(max_iter=1000))\n",
        "], final_estimator=LogisticRegression())\n",
        "\n",
        "stack.fit(X_train, y_train)\n",
        "print(\"Stacking Classifier Accuracy:\", stack.score(X_test, y_test))"
      ],
      "metadata": {
        "colab": {
          "base_uri": "https://localhost:8080/"
        },
        "id": "8r5oup6HdsAK",
        "outputId": "6405e485-207f-4bbc-a480-825e4c59861a"
      },
      "execution_count": 39,
      "outputs": [
        {
          "output_type": "stream",
          "name": "stdout",
          "text": [
            "Stacking Classifier Accuracy: 0.8566666666666667\n"
          ]
        }
      ]
    },
    {
      "cell_type": "code",
      "source": [
        "#Train a Bagging Regressor with different levels of bootstrap samples and compare performance\n",
        "for bootstrap in [True, False]:\n",
        "    model = BaggingRegressor(estimator=DecisionTreeRegressor(), n_estimators=50, bootstrap=bootstrap, random_state=42)\n",
        "    model.fit(X_train, y_train)\n",
        "    mse = mean_squared_error(y_test, model.predict(X_test))\n",
        "    print(f\"Bootstrap={bootstrap}: MSE = {mse}\")"
      ],
      "metadata": {
        "colab": {
          "base_uri": "https://localhost:8080/"
        },
        "id": "wvH-bl8cdsJS",
        "outputId": "82ccc9a6-990d-42e2-954b-8c183a188d04"
      },
      "execution_count": 41,
      "outputs": [
        {
          "output_type": "stream",
          "name": "stdout",
          "text": [
            "Bootstrap=True: MSE = 0.10449466666666667\n",
            "Bootstrap=False: MSE = 0.13052933333333333\n"
          ]
        }
      ]
    },
    {
      "cell_type": "code",
      "source": [],
      "metadata": {
        "id": "qqp45sVPg3Qw"
      },
      "execution_count": null,
      "outputs": []
    }
  ]
}